{
 "cells": [
  {
   "cell_type": "code",
   "execution_count": 17,
   "metadata": {
    "collapsed": false
   },
   "outputs": [
    {
     "name": "stdout",
     "output_type": "stream",
     "text": [
      "Populating the interactive namespace from numpy and matplotlib\n"
     ]
    }
   ],
   "source": [
    "%pylab inline\n",
    "import pandas as pd"
   ]
  },
  {
   "cell_type": "markdown",
   "metadata": {},
   "source": [
    "## Chong 1991\n",
    "\n",
    "Chong laid out his model in chapter 7 of *'Collecive Action and the Civil Rights Movement'*.\n",
    "Chong's model is based upon a model of supply and demand put forward in the sociological literature by McPhee(1966)."
   ]
  },
  {
   "cell_type": "markdown",
   "metadata": {},
   "source": [
    "State of the system:\n",
    "\n",
    "- `O` : The level of opposition to change\n",
    "- `M` : The level of mobilization in favor of change\n",
    "- `S` : The level of supply of concessions\n"
   ]
  },
  {
   "cell_type": "markdown",
   "metadata": {},
   "source": [
    "Parameters of the system:\n",
    "\n",
    "- `i` : the baseline amount of government initialtive in each period\n",
    "- `r1` : the rate of government responsiveness to proponents of change\n",
    "- `r2` : the rate of government responsiveness to opponents of change\n",
    "- `p` : the opposition's rate of countermobilization\n",
    "- `a` : the size of the autonomous leadership\n",
    "- `b` : the bandwagon rate due to successful collective action;\n",
    "'success' being defined as the level of supply `S[t]`. Therefore\n",
    "`b*S[t]` is the number of additional people who become active as a \n",
    "result of this success\n",
    "- `c` : the contagion rate due to successful mobilization in period `t-1`;\n",
    "therefore `c*M[t-1]` is the number of people who are active in period `t`\n",
    "because other people are active in period `t-1`\n",
    "- `d` : is the deterrent effect of the opposition"
   ]
  },
  {
   "cell_type": "code",
   "execution_count": 46,
   "metadata": {
    "collapsed": true
   },
   "outputs": [],
   "source": [
    "def model(i=1, r1=1, r2=1, p=1, \n",
    "          a=1, b=1, c=1, d=1, \n",
    "          O_0=1, M_0=1, S_0=1):\n",
    "    \n",
    "    # define the timeseries objects\n",
    "    tseries = range(30)\n",
    "    O = pd.Series(index=tseries) \n",
    "    M = pd.Series(index=tseries) \n",
    "    S = pd.Series(index=tseries) \n",
    "\n",
    "    # set the model initial conditions\n",
    "    O[0] = O_0\n",
    "    M[0] = M_0\n",
    "    S[0] = S_0\n",
    "    \n",
    "    for t in df.index[1:]:\n",
    "        S[t] = i + r1*M[t-1] - r2*O[t-1]\n",
    "        M[t] = a + b*S[t] + c*M[t-1] - d*O[t-1]\n",
    "        O[t] = p*M[t]\n",
    "        \n",
    "    return pd.DataFrame({'O':O, 'M':M, 'S':S})"
   ]
  },
  {
   "cell_type": "code",
   "execution_count": 55,
   "metadata": {
    "collapsed": false
   },
   "outputs": [
    {
     "data": {
      "text/plain": [
       "<matplotlib.axes._subplots.AxesSubplot at 0x1104aa090>"
      ]
     },
     "execution_count": 55,
     "metadata": {},
     "output_type": "execute_result"
    },
    {
     "data": {
      "image/png": "[encoded data removed]",
      "text/plain": [
       "<matplotlib.figure.Figure at 0x11057ef10>"
      ]
     },
     "metadata": {},
     "output_type": "display_data"
    }
   ],
   "source": [
    "model(i=1.4, r1=1.2, r2=1.1, b=1.4, c=1.1, d=1).plot()"
   ]
  },
  {
   "cell_type": "code",
   "execution_count": 57,
   "metadata": {
    "collapsed": false
   },
   "outputs": [
    {
     "data": {
      "text/plain": [
       "<matplotlib.axes._subplots.AxesSubplot at 0x1106e2bd0>"
      ]
     },
     "execution_count": 57,
     "metadata": {},
     "output_type": "execute_result"
    },
    {
     "data": {
      "image/png": "[encoded data removed]",
      "text/plain": [
       "<matplotlib.figure.Figure at 0x1107cad90>"
      ]
     },
     "metadata": {},
     "output_type": "display_data"
    }
   ],
   "source": [
    "model(r1=1.2, r2=1.1, b=1.4, c=1.1, d=.6).plot()"
   ]
  },
  {
   "cell_type": "code",
   "execution_count": null,
   "metadata": {
    "collapsed": true
   },
   "outputs": [],
   "source": []
  }
 ],
 "metadata": {
  "kernelspec": {
   "display_name": "Python 2",
   "language": "python",
   "name": "python2"
  },
  "language_info": {
   "codemirror_mode": {
    "name": "ipython",
    "version": 2
   },
   "file_extension": ".py",
   "mimetype": "text/x-python",
   "name": "python",
   "nbconvert_exporter": "python",
   "pygments_lexer": "ipython2",
   "version": "2.7.10"
  }
 },
 "nbformat": 4,
 "nbformat_minor": 0
}
