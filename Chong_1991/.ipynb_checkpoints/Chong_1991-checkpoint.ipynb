{
 "cells": [
  {
   "cell_type": "code",
   "execution_count": 17,
   "metadata": {
    "collapsed": false
   },
   "outputs": [
    {
     "name": "stdout",
     "output_type": "stream",
     "text": [
      "Populating the interactive namespace from numpy and matplotlib\n"
     ]
    }
   ],
   "source": [
    "%pylab inline\n",
    "import pandas as pd"
   ]
  },
  {
   "cell_type": "code",
   "execution_count": 11,
   "metadata": {
    "collapsed": true
   },
   "outputs": [],
   "source": [
    "tseries =range(30)\n",
    "O = pd.Series(index=tseries) #Level of opposition to change\n",
    "M = pd.Series(index=tseries) #Level of mobilization in favor of change\n",
    "S = pd.Series(index=tseries) #Level of supply\n",
    "\n",
    "O[0] = 1\n",
    "M[0] = 1\n",
    "S[0] = 1"
   ]
  },
  {
   "cell_type": "code",
   "execution_count": 14,
   "metadata": {
    "collapsed": false
   },
   "outputs": [],
   "source": [
    "i = 1\n",
    "r1 = 1\n",
    "r2 = 1\n",
    "p = 1\n",
    "a = 1  # the size of the autonomous leadership\n",
    "b = 1  # the bandwagon rate due to successful collective action\n",
    "       # 'success being defined as the level of supply S[t]; therefore\n",
    "       # b*S[t] is the number of additional people who become active as a \n",
    "       # result of this success\n",
    "    \n",
    "c = 1\n",
    "d = 1  #deterrent effect of the opposition\n",
    "\n",
    "for t in df.index[1:]:\n",
    "    S[t] = i + r1*M[t-1] - r2*O[t-1]\n",
    "    M[t] = a + b*S[t] + c*M[t-1] - d*O[t-1]\n",
    "    O[t] = p*M[t]\n",
    "    \n",
    "    "
   ]
  },
  {
   "cell_type": "code",
   "execution_count": 18,
   "metadata": {
    "collapsed": false
   },
   "outputs": [
    {
     "data": {
      "text/plain": [
       "<matplotlib.axes._subplots.AxesSubplot at 0x10e88b4d0>"
      ]
     },
     "execution_count": 18,
     "metadata": {},
     "output_type": "execute_result"
    },
    {
     "data": {
      "image/png": "[encoded data removed]",
      "text/plain": [
       "<matplotlib.figure.Figure at 0x10cd8bb10>"
      ]
     },
     "metadata": {},
     "output_type": "display_data"
    }
   ],
   "source": [
    "S.plot()"
   ]
  },
  {
   "cell_type": "code",
   "execution_count": null,
   "metadata": {
    "collapsed": true
   },
   "outputs": [],
   "source": []
  }
 ],
 "metadata": {
  "kernelspec": {
   "display_name": "Python 2",
   "language": "python",
   "name": "python2"
  },
  "language_info": {
   "codemirror_mode": {
    "name": "ipython",
    "version": 2
   },
   "file_extension": ".py",
   "mimetype": "text/x-python",
   "name": "python",
   "nbconvert_exporter": "python",
   "pygments_lexer": "ipython2",
   "version": "2.7.10"
  }
 },
 "nbformat": 4,
 "nbformat_minor": 0
}
