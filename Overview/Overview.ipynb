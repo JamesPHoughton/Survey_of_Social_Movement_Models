{
 "cells": [
  {
   "cell_type": "markdown",
   "metadata": {},
   "source": [
    "#Overview\n",
    "\n",
    "This paper will survey the existing literature of simulation models of social movements, reconstruct these models in the System Dynamics, Agent Based Modeling, or other paradigms as appropriate, and simulate the range of plausible behavioral outcomes these model reveal.\n",
    "\n",
    "It will then group these models according to their structure, underlying theory, and behavioral outcomes.\n",
    "\n",
    "[Formal Models in Studying Collective Action and Social Movements. Pamela E. Oliver; Daniel J. Myers](http://www.ssc.wisc.edu/~oliver/PROTESTS/ArticleCopies/OliverMyers2002SimMeth.pdf)\n",
    "\n",
    "\n",
    "## System Dynamics Conferences\n",
    "\n",
    "- http://www.systemdynamics.org/conferences/2011/proceed/papers/P1436.pdf\n",
    "- http://www.systemdynamics.org/conferences/2012/proceed/papers/P1081.pdf\n",
    "- http://www.systemdynamics.org/conferences/2007/proceed/papers/MADNI289.pdf\n",
    "- http://www.systemdynamics.org/conferences/2011/proceed/papers/P1329.pdf\n",
    "- http://www.systemdynamics.org/conferences/1983/proceed/plenary/richa001.pdf\n",
    "- \n",
    "    "
   ]
  },
  {
   "cell_type": "code",
   "execution_count": 1,
   "metadata": {
    "collapsed": true
   },
   "outputs": [],
   "source": [
    "import pysd\n",
    "pysd."
   ]
  },
  {
   "cell_type": "code",
   "execution_count": null,
   "metadata": {
    "collapsed": true
   },
   "outputs": [],
   "source": [
    "pysd."
   ]
  },
  {
   "cell_type": "markdown",
   "metadata": {},
   "source": [
    "###Models of Crowds\n",
    "Models of crowds are a related but probably distinct type of modeling, as they are interested not in the macrobehavior of movements over timescales of weeks to years, but the behavior of groups of people on the order of minutes to hours. It will probably be important to understand how meaningful these distinctions are, and the similarities between each type of model.\n",
    "\n",
    "\n",
    "- Granovetter Threshold model"
   ]
  },
  {
   "cell_type": "markdown",
   "metadata": {},
   "source": [
    "### Narrative Models\n",
    "Based on our previous work, looking at the conflict between narrative explainations of events within an individual."
   ]
  },
  {
   "cell_type": "markdown",
   "metadata": {},
   "source": [
    "http://www.jstor.org/stable/2094754?seq=1#page_scan_tab_contents"
   ]
  },
  {
   "cell_type": "markdown",
   "metadata": {
    "collapsed": true
   },
   "source": [
    "##Types of Models\n",
    "- network\n",
    "- System Dynamics"
   ]
  }
 ],
 "metadata": {
  "kernelspec": {
   "display_name": "Python 2",
   "language": "python",
   "name": "python2"
  },
  "language_info": {
   "codemirror_mode": {
    "name": "ipython",
    "version": 2
   },
   "file_extension": ".py",
   "mimetype": "text/x-python",
   "name": "python",
   "nbconvert_exporter": "python",
   "pygments_lexer": "ipython2",
   "version": "2.7.10"
  }
 },
 "nbformat": 4,
 "nbformat_minor": 0
}
